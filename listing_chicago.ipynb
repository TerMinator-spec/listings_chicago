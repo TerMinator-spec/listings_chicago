{
  "nbformat": 4,
  "nbformat_minor": 0,
  "metadata": {
    "colab": {
      "name": "listing_chicago.ipynb",
      "provenance": [],
      "authorship_tag": "ABX9TyOpsmm/YoeaVGoGXzKZaK18",
      "include_colab_link": true
    },
    "kernelspec": {
      "name": "python3",
      "display_name": "Python 3"
    },
    "language_info": {
      "name": "python"
    }
  },
  "cells": [
    {
      "cell_type": "markdown",
      "metadata": {
        "id": "view-in-github",
        "colab_type": "text"
      },
      "source": [
        "<a href=\"https://colab.research.google.com/github/TerMinator-spec/listings_chicago/blob/master/listing_chicago.ipynb\" target=\"_parent\"><img src=\"https://colab.research.google.com/assets/colab-badge.svg\" alt=\"Open In Colab\"/></a>"
      ]
    },
    {
      "cell_type": "code",
      "metadata": {
        "colab": {
          "base_uri": "https://localhost:8080/"
        },
        "id": "m2pYdPYpisUc",
        "outputId": "eac26a1a-7d50-4e86-95f0-9013d86cf264"
      },
      "source": [
        "!pip install geopandas"
      ],
      "execution_count": 2,
      "outputs": [
        {
          "output_type": "stream",
          "text": [
            "Collecting geopandas\n",
            "\u001b[?25l  Downloading https://files.pythonhosted.org/packages/d7/bf/e9cefb69d39155d122b6ddca53893b61535fa6ffdad70bf5ef708977f53f/geopandas-0.9.0-py2.py3-none-any.whl (994kB)\n",
            "\u001b[K     |████████████████████████████████| 1.0MB 6.0MB/s \n",
            "\u001b[?25hRequirement already satisfied: shapely>=1.6 in /usr/local/lib/python3.7/dist-packages (from geopandas) (1.7.1)\n",
            "Collecting pyproj>=2.2.0\n",
            "\u001b[?25l  Downloading https://files.pythonhosted.org/packages/b1/72/d52e9ca81caef056062d71991b0e9b1d16af042245627c5d0e4916a36c4f/pyproj-3.0.1-cp37-cp37m-manylinux2010_x86_64.whl (6.5MB)\n",
            "\u001b[K     |████████████████████████████████| 6.5MB 8.9MB/s \n",
            "\u001b[?25hCollecting fiona>=1.8\n",
            "\u001b[?25l  Downloading https://files.pythonhosted.org/packages/ea/2a/404b22883298a3efe9c6ef8d67acbf2c38443fa366ee9cd4cd34e17626ea/Fiona-1.8.19-cp37-cp37m-manylinux1_x86_64.whl (15.3MB)\n",
            "\u001b[K     |████████████████████████████████| 15.3MB 283kB/s \n",
            "\u001b[?25hRequirement already satisfied: pandas>=0.24.0 in /usr/local/lib/python3.7/dist-packages (from geopandas) (1.1.5)\n",
            "Requirement already satisfied: certifi in /usr/local/lib/python3.7/dist-packages (from pyproj>=2.2.0->geopandas) (2020.12.5)\n",
            "Collecting cligj>=0.5\n",
            "  Downloading https://files.pythonhosted.org/packages/42/1e/947eadf10d6804bf276eb8a038bd5307996dceaaa41cfd21b7a15ec62f5d/cligj-0.7.1-py3-none-any.whl\n",
            "Collecting click-plugins>=1.0\n",
            "  Downloading https://files.pythonhosted.org/packages/e9/da/824b92d9942f4e472702488857914bdd50f73021efea15b4cad9aca8ecef/click_plugins-1.1.1-py2.py3-none-any.whl\n",
            "Requirement already satisfied: six>=1.7 in /usr/local/lib/python3.7/dist-packages (from fiona>=1.8->geopandas) (1.15.0)\n",
            "Requirement already satisfied: click<8,>=4.0 in /usr/local/lib/python3.7/dist-packages (from fiona>=1.8->geopandas) (7.1.2)\n",
            "Requirement already satisfied: attrs>=17 in /usr/local/lib/python3.7/dist-packages (from fiona>=1.8->geopandas) (20.3.0)\n",
            "Collecting munch\n",
            "  Downloading https://files.pythonhosted.org/packages/cc/ab/85d8da5c9a45e072301beb37ad7f833cd344e04c817d97e0cc75681d248f/munch-2.5.0-py2.py3-none-any.whl\n",
            "Requirement already satisfied: python-dateutil>=2.7.3 in /usr/local/lib/python3.7/dist-packages (from pandas>=0.24.0->geopandas) (2.8.1)\n",
            "Requirement already satisfied: pytz>=2017.2 in /usr/local/lib/python3.7/dist-packages (from pandas>=0.24.0->geopandas) (2018.9)\n",
            "Requirement already satisfied: numpy>=1.15.4 in /usr/local/lib/python3.7/dist-packages (from pandas>=0.24.0->geopandas) (1.19.5)\n",
            "Installing collected packages: pyproj, cligj, click-plugins, munch, fiona, geopandas\n",
            "Successfully installed click-plugins-1.1.1 cligj-0.7.1 fiona-1.8.19 geopandas-0.9.0 munch-2.5.0 pyproj-3.0.1\n"
          ],
          "name": "stdout"
        }
      ]
    },
    {
      "cell_type": "code",
      "metadata": {
        "id": "wo8RMfB8drTb"
      },
      "source": [
        "import pandas as pd\n",
        "import numpy as np\n",
        "import geopandas as gpd\n",
        "import matplotlib.pyplot as plt\n",
        "import seaborn as sns"
      ],
      "execution_count": 3,
      "outputs": []
    },
    {
      "cell_type": "code",
      "metadata": {
        "colab": {
          "base_uri": "https://localhost:8080/",
          "height": 450
        },
        "id": "M2MNWgaFeJgU",
        "outputId": "1fc4fc9c-285a-498d-d35e-49942ee54550"
      },
      "source": [
        "listing=pd.read_csv('/content/listings.csv')\n",
        "listing.drop('neighbourhood_group',1,inplace=True)\n",
        "listing.head()"
      ],
      "execution_count": 17,
      "outputs": [
        {
          "output_type": "execute_result",
          "data": {
            "text/html": [
              "<div>\n",
              "<style scoped>\n",
              "    .dataframe tbody tr th:only-of-type {\n",
              "        vertical-align: middle;\n",
              "    }\n",
              "\n",
              "    .dataframe tbody tr th {\n",
              "        vertical-align: top;\n",
              "    }\n",
              "\n",
              "    .dataframe thead th {\n",
              "        text-align: right;\n",
              "    }\n",
              "</style>\n",
              "<table border=\"1\" class=\"dataframe\">\n",
              "  <thead>\n",
              "    <tr style=\"text-align: right;\">\n",
              "      <th></th>\n",
              "      <th>id</th>\n",
              "      <th>name</th>\n",
              "      <th>host_id</th>\n",
              "      <th>host_name</th>\n",
              "      <th>neighbourhood</th>\n",
              "      <th>latitude</th>\n",
              "      <th>longitude</th>\n",
              "      <th>room_type</th>\n",
              "      <th>price</th>\n",
              "      <th>minimum_nights</th>\n",
              "      <th>number_of_reviews</th>\n",
              "      <th>last_review</th>\n",
              "      <th>reviews_per_month</th>\n",
              "      <th>calculated_host_listings_count</th>\n",
              "      <th>availability_365</th>\n",
              "    </tr>\n",
              "  </thead>\n",
              "  <tbody>\n",
              "    <tr>\n",
              "      <th>0</th>\n",
              "      <td>2384</td>\n",
              "      <td>Hyde Park - Walk to UChicago, 10 min to McCormick</td>\n",
              "      <td>2613</td>\n",
              "      <td>Rebecca</td>\n",
              "      <td>Hyde Park</td>\n",
              "      <td>41.78790</td>\n",
              "      <td>-87.58780</td>\n",
              "      <td>Private room</td>\n",
              "      <td>65</td>\n",
              "      <td>2</td>\n",
              "      <td>182</td>\n",
              "      <td>2021-03-28</td>\n",
              "      <td>2.38</td>\n",
              "      <td>1</td>\n",
              "      <td>0</td>\n",
              "    </tr>\n",
              "    <tr>\n",
              "      <th>1</th>\n",
              "      <td>4505</td>\n",
              "      <td>394 Great Reviews. 127 y/o House. 40 yds to tr...</td>\n",
              "      <td>5775</td>\n",
              "      <td>Craig &amp; Kathleen</td>\n",
              "      <td>South Lawndale</td>\n",
              "      <td>41.85373</td>\n",
              "      <td>-87.69540</td>\n",
              "      <td>Entire home/apt</td>\n",
              "      <td>113</td>\n",
              "      <td>2</td>\n",
              "      <td>395</td>\n",
              "      <td>2020-07-14</td>\n",
              "      <td>2.67</td>\n",
              "      <td>1</td>\n",
              "      <td>180</td>\n",
              "    </tr>\n",
              "    <tr>\n",
              "      <th>2</th>\n",
              "      <td>7126</td>\n",
              "      <td>Tiny Studio Apartment 94 Walk Score</td>\n",
              "      <td>17928</td>\n",
              "      <td>Sarah</td>\n",
              "      <td>West Town</td>\n",
              "      <td>41.90166</td>\n",
              "      <td>-87.68021</td>\n",
              "      <td>Entire home/apt</td>\n",
              "      <td>65</td>\n",
              "      <td>2</td>\n",
              "      <td>394</td>\n",
              "      <td>2021-04-11</td>\n",
              "      <td>2.74</td>\n",
              "      <td>1</td>\n",
              "      <td>267</td>\n",
              "    </tr>\n",
              "    <tr>\n",
              "      <th>3</th>\n",
              "      <td>9811</td>\n",
              "      <td>Barbara's Hideaway - Old Town</td>\n",
              "      <td>33004</td>\n",
              "      <td>At Home Inn</td>\n",
              "      <td>Lincoln Park</td>\n",
              "      <td>41.91943</td>\n",
              "      <td>-87.63898</td>\n",
              "      <td>Entire home/apt</td>\n",
              "      <td>120</td>\n",
              "      <td>5</td>\n",
              "      <td>54</td>\n",
              "      <td>2021-01-15</td>\n",
              "      <td>0.63</td>\n",
              "      <td>11</td>\n",
              "      <td>1</td>\n",
              "    </tr>\n",
              "    <tr>\n",
              "      <th>4</th>\n",
              "      <td>10945</td>\n",
              "      <td>The Biddle House (#1)</td>\n",
              "      <td>33004</td>\n",
              "      <td>At Home Inn</td>\n",
              "      <td>Lincoln Park</td>\n",
              "      <td>41.91196</td>\n",
              "      <td>-87.63981</td>\n",
              "      <td>Entire home/apt</td>\n",
              "      <td>175</td>\n",
              "      <td>4</td>\n",
              "      <td>22</td>\n",
              "      <td>2021-03-25</td>\n",
              "      <td>0.26</td>\n",
              "      <td>11</td>\n",
              "      <td>125</td>\n",
              "    </tr>\n",
              "  </tbody>\n",
              "</table>\n",
              "</div>"
            ],
            "text/plain": [
              "      id  ... availability_365\n",
              "0   2384  ...                0\n",
              "1   4505  ...              180\n",
              "2   7126  ...              267\n",
              "3   9811  ...                1\n",
              "4  10945  ...              125\n",
              "\n",
              "[5 rows x 15 columns]"
            ]
          },
          "metadata": {
            "tags": []
          },
          "execution_count": 17
        }
      ]
    },
    {
      "cell_type": "code",
      "metadata": {
        "colab": {
          "base_uri": "https://localhost:8080/",
          "height": 302
        },
        "id": "6dve-tV_h8l5",
        "outputId": "87898f98-c58c-4343-e05b-f2c4a09450c0"
      },
      "source": [
        "listing.describe()"
      ],
      "execution_count": null,
      "outputs": [
        {
          "output_type": "execute_result",
          "data": {
            "text/html": [
              "<div>\n",
              "<style scoped>\n",
              "    .dataframe tbody tr th:only-of-type {\n",
              "        vertical-align: middle;\n",
              "    }\n",
              "\n",
              "    .dataframe tbody tr th {\n",
              "        vertical-align: top;\n",
              "    }\n",
              "\n",
              "    .dataframe thead th {\n",
              "        text-align: right;\n",
              "    }\n",
              "</style>\n",
              "<table border=\"1\" class=\"dataframe\">\n",
              "  <thead>\n",
              "    <tr style=\"text-align: right;\">\n",
              "      <th></th>\n",
              "      <th>id</th>\n",
              "      <th>host_id</th>\n",
              "      <th>neighbourhood_group</th>\n",
              "      <th>latitude</th>\n",
              "      <th>longitude</th>\n",
              "      <th>price</th>\n",
              "      <th>minimum_nights</th>\n",
              "      <th>number_of_reviews</th>\n",
              "      <th>reviews_per_month</th>\n",
              "      <th>calculated_host_listings_count</th>\n",
              "      <th>availability_365</th>\n",
              "    </tr>\n",
              "  </thead>\n",
              "  <tbody>\n",
              "    <tr>\n",
              "      <th>count</th>\n",
              "      <td>6.386000e+03</td>\n",
              "      <td>6.386000e+03</td>\n",
              "      <td>0.0</td>\n",
              "      <td>6386.000000</td>\n",
              "      <td>6386.000000</td>\n",
              "      <td>6386.000000</td>\n",
              "      <td>6386.000000</td>\n",
              "      <td>6386.000000</td>\n",
              "      <td>5168.000000</td>\n",
              "      <td>6386.000000</td>\n",
              "      <td>6386.000000</td>\n",
              "    </tr>\n",
              "    <tr>\n",
              "      <th>mean</th>\n",
              "      <td>3.056454e+07</td>\n",
              "      <td>1.150096e+08</td>\n",
              "      <td>NaN</td>\n",
              "      <td>41.898929</td>\n",
              "      <td>-87.663195</td>\n",
              "      <td>161.330254</td>\n",
              "      <td>9.024272</td>\n",
              "      <td>42.291889</td>\n",
              "      <td>1.605012</td>\n",
              "      <td>15.982148</td>\n",
              "      <td>157.044785</td>\n",
              "    </tr>\n",
              "    <tr>\n",
              "      <th>std</th>\n",
              "      <td>1.407447e+07</td>\n",
              "      <td>1.144597e+08</td>\n",
              "      <td>NaN</td>\n",
              "      <td>0.058699</td>\n",
              "      <td>0.042860</td>\n",
              "      <td>360.998390</td>\n",
              "      <td>24.236983</td>\n",
              "      <td>69.484109</td>\n",
              "      <td>1.710903</td>\n",
              "      <td>44.453948</td>\n",
              "      <td>136.275636</td>\n",
              "    </tr>\n",
              "    <tr>\n",
              "      <th>min</th>\n",
              "      <td>2.384000e+03</td>\n",
              "      <td>2.153000e+03</td>\n",
              "      <td>NaN</td>\n",
              "      <td>41.650640</td>\n",
              "      <td>-87.934820</td>\n",
              "      <td>0.000000</td>\n",
              "      <td>1.000000</td>\n",
              "      <td>0.000000</td>\n",
              "      <td>0.010000</td>\n",
              "      <td>1.000000</td>\n",
              "      <td>0.000000</td>\n",
              "    </tr>\n",
              "    <tr>\n",
              "      <th>25%</th>\n",
              "      <td>1.998291e+07</td>\n",
              "      <td>1.969191e+07</td>\n",
              "      <td>NaN</td>\n",
              "      <td>41.873712</td>\n",
              "      <td>-87.686780</td>\n",
              "      <td>67.000000</td>\n",
              "      <td>1.000000</td>\n",
              "      <td>1.000000</td>\n",
              "      <td>0.370000</td>\n",
              "      <td>1.000000</td>\n",
              "      <td>11.000000</td>\n",
              "    </tr>\n",
              "    <tr>\n",
              "      <th>50%</th>\n",
              "      <td>3.344259e+07</td>\n",
              "      <td>6.905864e+07</td>\n",
              "      <td>NaN</td>\n",
              "      <td>41.900755</td>\n",
              "      <td>-87.659125</td>\n",
              "      <td>102.000000</td>\n",
              "      <td>2.000000</td>\n",
              "      <td>12.000000</td>\n",
              "      <td>1.060000</td>\n",
              "      <td>2.000000</td>\n",
              "      <td>126.000000</td>\n",
              "    </tr>\n",
              "    <tr>\n",
              "      <th>75%</th>\n",
              "      <td>4.293678e+07</td>\n",
              "      <td>1.846707e+08</td>\n",
              "      <td>NaN</td>\n",
              "      <td>41.939615</td>\n",
              "      <td>-87.632288</td>\n",
              "      <td>164.000000</td>\n",
              "      <td>4.000000</td>\n",
              "      <td>54.000000</td>\n",
              "      <td>2.380000</td>\n",
              "      <td>9.000000</td>\n",
              "      <td>298.000000</td>\n",
              "    </tr>\n",
              "    <tr>\n",
              "      <th>max</th>\n",
              "      <td>4.927557e+07</td>\n",
              "      <td>3.967887e+08</td>\n",
              "      <td>NaN</td>\n",
              "      <td>42.022200</td>\n",
              "      <td>-87.535880</td>\n",
              "      <td>9999.000000</td>\n",
              "      <td>500.000000</td>\n",
              "      <td>801.000000</td>\n",
              "      <td>29.540000</td>\n",
              "      <td>233.000000</td>\n",
              "      <td>365.000000</td>\n",
              "    </tr>\n",
              "  </tbody>\n",
              "</table>\n",
              "</div>"
            ],
            "text/plain": [
              "                 id  ...  availability_365\n",
              "count  6.386000e+03  ...       6386.000000\n",
              "mean   3.056454e+07  ...        157.044785\n",
              "std    1.407447e+07  ...        136.275636\n",
              "min    2.384000e+03  ...          0.000000\n",
              "25%    1.998291e+07  ...         11.000000\n",
              "50%    3.344259e+07  ...        126.000000\n",
              "75%    4.293678e+07  ...        298.000000\n",
              "max    4.927557e+07  ...        365.000000\n",
              "\n",
              "[8 rows x 11 columns]"
            ]
          },
          "metadata": {
            "tags": []
          },
          "execution_count": 4
        }
      ]
    },
    {
      "cell_type": "code",
      "metadata": {
        "colab": {
          "base_uri": "https://localhost:8080/"
        },
        "id": "teSmDUbMkXO1",
        "outputId": "5dec6724-881c-428e-a52d-a13817679bc8"
      },
      "source": [
        "#convert to geodataframe\n",
        "listing_geo = gpd.GeoDataFrame(listing,crs={'init' :'epsg:4326'}, geometry=gpd.points_from_xy(listing.longitude, listing.latitude))"
      ],
      "execution_count": 5,
      "outputs": [
        {
          "output_type": "stream",
          "text": [
            "/usr/local/lib/python3.7/dist-packages/pyproj/crs/crs.py:53: FutureWarning: '+init=<authority>:<code>' syntax is deprecated. '<authority>:<code>' is the preferred initialization method. When making the change, be mindful of axis order changes: https://pyproj4.github.io/pyproj/stable/gotchas.html#axis-order-changes-in-proj-6\n",
            "  return _prepare_from_string(\" \".join(pjargs))\n"
          ],
          "name": "stderr"
        }
      ]
    },
    {
      "cell_type": "code",
      "metadata": {
        "colab": {
          "base_uri": "https://localhost:8080/",
          "height": 467
        },
        "id": "_GyAO-25kon9",
        "outputId": "9fdd953b-8418-4791-9189-cc766fdc5a90"
      },
      "source": [
        "listing_geo.head()"
      ],
      "execution_count": 6,
      "outputs": [
        {
          "output_type": "execute_result",
          "data": {
            "text/html": [
              "<div>\n",
              "<style scoped>\n",
              "    .dataframe tbody tr th:only-of-type {\n",
              "        vertical-align: middle;\n",
              "    }\n",
              "\n",
              "    .dataframe tbody tr th {\n",
              "        vertical-align: top;\n",
              "    }\n",
              "\n",
              "    .dataframe thead th {\n",
              "        text-align: right;\n",
              "    }\n",
              "</style>\n",
              "<table border=\"1\" class=\"dataframe\">\n",
              "  <thead>\n",
              "    <tr style=\"text-align: right;\">\n",
              "      <th></th>\n",
              "      <th>id</th>\n",
              "      <th>name</th>\n",
              "      <th>host_id</th>\n",
              "      <th>host_name</th>\n",
              "      <th>neighbourhood</th>\n",
              "      <th>latitude</th>\n",
              "      <th>longitude</th>\n",
              "      <th>room_type</th>\n",
              "      <th>price</th>\n",
              "      <th>minimum_nights</th>\n",
              "      <th>number_of_reviews</th>\n",
              "      <th>last_review</th>\n",
              "      <th>reviews_per_month</th>\n",
              "      <th>calculated_host_listings_count</th>\n",
              "      <th>availability_365</th>\n",
              "      <th>geometry</th>\n",
              "    </tr>\n",
              "  </thead>\n",
              "  <tbody>\n",
              "    <tr>\n",
              "      <th>0</th>\n",
              "      <td>2384</td>\n",
              "      <td>Hyde Park - Walk to UChicago, 10 min to McCormick</td>\n",
              "      <td>2613</td>\n",
              "      <td>Rebecca</td>\n",
              "      <td>Hyde Park</td>\n",
              "      <td>41.78790</td>\n",
              "      <td>-87.58780</td>\n",
              "      <td>Private room</td>\n",
              "      <td>65</td>\n",
              "      <td>2</td>\n",
              "      <td>182</td>\n",
              "      <td>2021-03-28</td>\n",
              "      <td>2.38</td>\n",
              "      <td>1</td>\n",
              "      <td>0</td>\n",
              "      <td>POINT (-87.58780 41.78790)</td>\n",
              "    </tr>\n",
              "    <tr>\n",
              "      <th>1</th>\n",
              "      <td>4505</td>\n",
              "      <td>394 Great Reviews. 127 y/o House. 40 yds to tr...</td>\n",
              "      <td>5775</td>\n",
              "      <td>Craig &amp; Kathleen</td>\n",
              "      <td>South Lawndale</td>\n",
              "      <td>41.85373</td>\n",
              "      <td>-87.69540</td>\n",
              "      <td>Entire home/apt</td>\n",
              "      <td>113</td>\n",
              "      <td>2</td>\n",
              "      <td>395</td>\n",
              "      <td>2020-07-14</td>\n",
              "      <td>2.67</td>\n",
              "      <td>1</td>\n",
              "      <td>180</td>\n",
              "      <td>POINT (-87.69540 41.85373)</td>\n",
              "    </tr>\n",
              "    <tr>\n",
              "      <th>2</th>\n",
              "      <td>7126</td>\n",
              "      <td>Tiny Studio Apartment 94 Walk Score</td>\n",
              "      <td>17928</td>\n",
              "      <td>Sarah</td>\n",
              "      <td>West Town</td>\n",
              "      <td>41.90166</td>\n",
              "      <td>-87.68021</td>\n",
              "      <td>Entire home/apt</td>\n",
              "      <td>65</td>\n",
              "      <td>2</td>\n",
              "      <td>394</td>\n",
              "      <td>2021-04-11</td>\n",
              "      <td>2.74</td>\n",
              "      <td>1</td>\n",
              "      <td>267</td>\n",
              "      <td>POINT (-87.68021 41.90166)</td>\n",
              "    </tr>\n",
              "    <tr>\n",
              "      <th>3</th>\n",
              "      <td>9811</td>\n",
              "      <td>Barbara's Hideaway - Old Town</td>\n",
              "      <td>33004</td>\n",
              "      <td>At Home Inn</td>\n",
              "      <td>Lincoln Park</td>\n",
              "      <td>41.91943</td>\n",
              "      <td>-87.63898</td>\n",
              "      <td>Entire home/apt</td>\n",
              "      <td>120</td>\n",
              "      <td>5</td>\n",
              "      <td>54</td>\n",
              "      <td>2021-01-15</td>\n",
              "      <td>0.63</td>\n",
              "      <td>11</td>\n",
              "      <td>1</td>\n",
              "      <td>POINT (-87.63898 41.91943)</td>\n",
              "    </tr>\n",
              "    <tr>\n",
              "      <th>4</th>\n",
              "      <td>10945</td>\n",
              "      <td>The Biddle House (#1)</td>\n",
              "      <td>33004</td>\n",
              "      <td>At Home Inn</td>\n",
              "      <td>Lincoln Park</td>\n",
              "      <td>41.91196</td>\n",
              "      <td>-87.63981</td>\n",
              "      <td>Entire home/apt</td>\n",
              "      <td>175</td>\n",
              "      <td>4</td>\n",
              "      <td>22</td>\n",
              "      <td>2021-03-25</td>\n",
              "      <td>0.26</td>\n",
              "      <td>11</td>\n",
              "      <td>125</td>\n",
              "      <td>POINT (-87.63981 41.91196)</td>\n",
              "    </tr>\n",
              "  </tbody>\n",
              "</table>\n",
              "</div>"
            ],
            "text/plain": [
              "      id  ...                    geometry\n",
              "0   2384  ...  POINT (-87.58780 41.78790)\n",
              "1   4505  ...  POINT (-87.69540 41.85373)\n",
              "2   7126  ...  POINT (-87.68021 41.90166)\n",
              "3   9811  ...  POINT (-87.63898 41.91943)\n",
              "4  10945  ...  POINT (-87.63981 41.91196)\n",
              "\n",
              "[5 rows x 16 columns]"
            ]
          },
          "metadata": {
            "tags": []
          },
          "execution_count": 6
        }
      ]
    },
    {
      "cell_type": "code",
      "metadata": {
        "colab": {
          "base_uri": "https://localhost:8080/",
          "height": 194
        },
        "id": "vFXJP23febNy",
        "outputId": "d005abc7-956e-4510-d465-dfcbc48ddf34"
      },
      "source": [
        "nebor=gpd.read_file(\"neighbourhoods.geojson\")\n",
        "nebor.drop('neighbourhood_group',1,inplace=True)\n",
        "nebor.head()"
      ],
      "execution_count": 7,
      "outputs": [
        {
          "output_type": "execute_result",
          "data": {
            "text/html": [
              "<div>\n",
              "<style scoped>\n",
              "    .dataframe tbody tr th:only-of-type {\n",
              "        vertical-align: middle;\n",
              "    }\n",
              "\n",
              "    .dataframe tbody tr th {\n",
              "        vertical-align: top;\n",
              "    }\n",
              "\n",
              "    .dataframe thead th {\n",
              "        text-align: right;\n",
              "    }\n",
              "</style>\n",
              "<table border=\"1\" class=\"dataframe\">\n",
              "  <thead>\n",
              "    <tr style=\"text-align: right;\">\n",
              "      <th></th>\n",
              "      <th>neighbourhood</th>\n",
              "      <th>geometry</th>\n",
              "    </tr>\n",
              "  </thead>\n",
              "  <tbody>\n",
              "    <tr>\n",
              "      <th>0</th>\n",
              "      <td>Lincoln Square</td>\n",
              "      <td>MULTIPOLYGON (((-87.67441 41.97610, -87.67440 ...</td>\n",
              "    </tr>\n",
              "    <tr>\n",
              "      <th>1</th>\n",
              "      <td>Hyde Park</td>\n",
              "      <td>MULTIPOLYGON (((-87.58038 41.80253, -87.58040 ...</td>\n",
              "    </tr>\n",
              "    <tr>\n",
              "      <th>2</th>\n",
              "      <td>Woodlawn</td>\n",
              "      <td>MULTIPOLYGON (((-87.57715 41.78615, -87.57715 ...</td>\n",
              "    </tr>\n",
              "    <tr>\n",
              "      <th>3</th>\n",
              "      <td>Rogers Park</td>\n",
              "      <td>MULTIPOLYGON (((-87.65456 41.99817, -87.65574 ...</td>\n",
              "    </tr>\n",
              "    <tr>\n",
              "      <th>4</th>\n",
              "      <td>Jefferson Park</td>\n",
              "      <td>MULTIPOLYGON (((-87.75263 41.96797, -87.75279 ...</td>\n",
              "    </tr>\n",
              "  </tbody>\n",
              "</table>\n",
              "</div>"
            ],
            "text/plain": [
              "    neighbourhood                                           geometry\n",
              "0  Lincoln Square  MULTIPOLYGON (((-87.67441 41.97610, -87.67440 ...\n",
              "1       Hyde Park  MULTIPOLYGON (((-87.58038 41.80253, -87.58040 ...\n",
              "2        Woodlawn  MULTIPOLYGON (((-87.57715 41.78615, -87.57715 ...\n",
              "3     Rogers Park  MULTIPOLYGON (((-87.65456 41.99817, -87.65574 ...\n",
              "4  Jefferson Park  MULTIPOLYGON (((-87.75263 41.96797, -87.75279 ..."
            ]
          },
          "metadata": {
            "tags": []
          },
          "execution_count": 7
        }
      ]
    },
    {
      "cell_type": "code",
      "metadata": {
        "colab": {
          "base_uri": "https://localhost:8080/",
          "height": 610
        },
        "id": "oq20j8wBkwgU",
        "outputId": "784bd26a-8568-4deb-ec24-e7cd249218e7"
      },
      "source": [
        "# Now let's plot listings with the neighbourhood\n",
        "fig, ax = plt.subplots(figsize=(12,10))\n",
        "nebor.plot(color=\"Gray\", ax= ax);\n",
        "listing_geo.plot(ax=ax)"
      ],
      "execution_count": null,
      "outputs": [
        {
          "output_type": "execute_result",
          "data": {
            "text/plain": [
              "<matplotlib.axes._subplots.AxesSubplot at 0x7fe7ce925150>"
            ]
          },
          "metadata": {
            "tags": []
          },
          "execution_count": 12
        },
        {
          "output_type": "display_data",
          "data": {
            "image/png": "[encoded data removed]",
            "text/plain": [
              "<Figure size 864x720 with 1 Axes>"
            ]
          },
          "metadata": {
            "tags": [],
            "needs_background": "light"
          }
        }
      ]
    },
    {
      "cell_type": "code",
      "metadata": {
        "id": "Fn57WrGXpdFd"
      },
      "source": [
        "# Top areas with highest number of listing\n",
        "lis_top=listing.groupby('neighbourhood')['calculated_host_listings_count'].sum().reset_index()"
      ],
      "execution_count": null,
      "outputs": []
    },
    {
      "cell_type": "code",
      "metadata": {
        "colab": {
          "base_uri": "https://localhost:8080/",
          "height": 399
        },
        "id": "92OHgxDtqBbA",
        "outputId": "c3800fda-d52b-4607-8dfd-393786207dc7"
      },
      "source": [
        "lis_top"
      ],
      "execution_count": null,
      "outputs": [
        {
          "output_type": "execute_result",
          "data": {
            "text/html": [
              "<div>\n",
              "<style scoped>\n",
              "    .dataframe tbody tr th:only-of-type {\n",
              "        vertical-align: middle;\n",
              "    }\n",
              "\n",
              "    .dataframe tbody tr th {\n",
              "        vertical-align: top;\n",
              "    }\n",
              "\n",
              "    .dataframe thead th {\n",
              "        text-align: right;\n",
              "    }\n",
              "</style>\n",
              "<table border=\"1\" class=\"dataframe\">\n",
              "  <thead>\n",
              "    <tr style=\"text-align: right;\">\n",
              "      <th></th>\n",
              "      <th>neighbourhood</th>\n",
              "      <th>calculated_host_listings_count</th>\n",
              "    </tr>\n",
              "  </thead>\n",
              "  <tbody>\n",
              "    <tr>\n",
              "      <th>0</th>\n",
              "      <td>Albany Park</td>\n",
              "      <td>164</td>\n",
              "    </tr>\n",
              "    <tr>\n",
              "      <th>1</th>\n",
              "      <td>Archer Heights</td>\n",
              "      <td>8</td>\n",
              "    </tr>\n",
              "    <tr>\n",
              "      <th>2</th>\n",
              "      <td>Armour Square</td>\n",
              "      <td>545</td>\n",
              "    </tr>\n",
              "    <tr>\n",
              "      <th>3</th>\n",
              "      <td>Ashburn</td>\n",
              "      <td>25</td>\n",
              "    </tr>\n",
              "    <tr>\n",
              "      <th>4</th>\n",
              "      <td>Auburn Gresham</td>\n",
              "      <td>11</td>\n",
              "    </tr>\n",
              "    <tr>\n",
              "      <th>...</th>\n",
              "      <td>...</td>\n",
              "      <td>...</td>\n",
              "    </tr>\n",
              "    <tr>\n",
              "      <th>72</th>\n",
              "      <td>West Lawn</td>\n",
              "      <td>14</td>\n",
              "    </tr>\n",
              "    <tr>\n",
              "      <th>73</th>\n",
              "      <td>West Pullman</td>\n",
              "      <td>4</td>\n",
              "    </tr>\n",
              "    <tr>\n",
              "      <th>74</th>\n",
              "      <td>West Ridge</td>\n",
              "      <td>465</td>\n",
              "    </tr>\n",
              "    <tr>\n",
              "      <th>75</th>\n",
              "      <td>West Town</td>\n",
              "      <td>4781</td>\n",
              "    </tr>\n",
              "    <tr>\n",
              "      <th>76</th>\n",
              "      <td>Woodlawn</td>\n",
              "      <td>463</td>\n",
              "    </tr>\n",
              "  </tbody>\n",
              "</table>\n",
              "<p>77 rows × 2 columns</p>\n",
              "</div>"
            ],
            "text/plain": [
              "     neighbourhood  calculated_host_listings_count\n",
              "0      Albany Park                             164\n",
              "1   Archer Heights                               8\n",
              "2    Armour Square                             545\n",
              "3          Ashburn                              25\n",
              "4   Auburn Gresham                              11\n",
              "..             ...                             ...\n",
              "72       West Lawn                              14\n",
              "73    West Pullman                               4\n",
              "74      West Ridge                             465\n",
              "75       West Town                            4781\n",
              "76        Woodlawn                             463\n",
              "\n",
              "[77 rows x 2 columns]"
            ]
          },
          "metadata": {
            "tags": []
          },
          "execution_count": 16
        }
      ]
    },
    {
      "cell_type": "code",
      "metadata": {
        "colab": {
          "base_uri": "https://localhost:8080/",
          "height": 544
        },
        "id": "WouD6C8gvUTJ",
        "outputId": "e96ae218-14ee-4ed7-b822-080f6d650c05"
      },
      "source": [
        "# Let's find top 20 neighborhood having highest listing count\n",
        "sort_data=lis_top.sort_values(\"calculated_host_listings_count\").reset_index(drop=True)\n",
        "\n",
        "\n",
        "fig = plt.figure(figsize = (12,6))\n",
        "ax=sns.barplot(x=\"neighbourhood\",y=\"calculated_host_listings_count\", data=sort_data[-20:])\n",
        "ax.set_xticklabels(ax.get_xticklabels(), rotation=40, ha=\"right\")\n",
        "plt.xticks(fontsize=20)\n",
        "plt.yticks(fontsize=20)"
      ],
      "execution_count": null,
      "outputs": [
        {
          "output_type": "execute_result",
          "data": {
            "text/plain": [
              "(array([    0.,  5000., 10000., 15000., 20000., 25000., 30000., 35000.]),\n",
              " <a list of 8 Text major ticklabel objects>)"
            ]
          },
          "metadata": {
            "tags": []
          },
          "execution_count": 20
        },
        {
          "output_type": "display_data",
          "data": {
            "image/png": "[encoded data removed]",
            "text/plain": [
              "<Figure size 864x432 with 1 Axes>"
            ]
          },
          "metadata": {
            "tags": [],
            "needs_background": "light"
          }
        }
      ]
    },
    {
      "cell_type": "code",
      "metadata": {
        "id": "swmOPpTfxaDr"
      },
      "source": [
        "# Let's merge the two dataset\n",
        "merged = nebor.merge(listing, on=\"neighbourhood\")"
      ],
      "execution_count": 18,
      "outputs": []
    },
    {
      "cell_type": "code",
      "metadata": {
        "colab": {
          "base_uri": "https://localhost:8080/",
          "height": 926
        },
        "id": "i4dt6Lnt1gzO",
        "outputId": "0d6cab4f-5b9c-4ce9-de17-b96bf60c4529"
      },
      "source": [
        "merged"
      ],
      "execution_count": 19,
      "outputs": [
        {
          "output_type": "execute_result",
          "data": {
            "text/html": [
              "<div>\n",
              "<style scoped>\n",
              "    .dataframe tbody tr th:only-of-type {\n",
              "        vertical-align: middle;\n",
              "    }\n",
              "\n",
              "    .dataframe tbody tr th {\n",
              "        vertical-align: top;\n",
              "    }\n",
              "\n",
              "    .dataframe thead th {\n",
              "        text-align: right;\n",
              "    }\n",
              "</style>\n",
              "<table border=\"1\" class=\"dataframe\">\n",
              "  <thead>\n",
              "    <tr style=\"text-align: right;\">\n",
              "      <th></th>\n",
              "      <th>neighbourhood</th>\n",
              "      <th>geometry</th>\n",
              "      <th>id</th>\n",
              "      <th>name</th>\n",
              "      <th>host_id</th>\n",
              "      <th>host_name</th>\n",
              "      <th>latitude</th>\n",
              "      <th>longitude</th>\n",
              "      <th>room_type</th>\n",
              "      <th>price</th>\n",
              "      <th>minimum_nights</th>\n",
              "      <th>number_of_reviews</th>\n",
              "      <th>last_review</th>\n",
              "      <th>reviews_per_month</th>\n",
              "      <th>calculated_host_listings_count</th>\n",
              "      <th>availability_365</th>\n",
              "    </tr>\n",
              "  </thead>\n",
              "  <tbody>\n",
              "    <tr>\n",
              "      <th>0</th>\n",
              "      <td>Lincoln Square</td>\n",
              "      <td>MULTIPOLYGON (((-87.67441 41.97610, -87.67440 ...</td>\n",
              "      <td>507517</td>\n",
              "      <td>Private Lincoln Square Garden Apt</td>\n",
              "      <td>2501182</td>\n",
              "      <td>Nate</td>\n",
              "      <td>41.96678</td>\n",
              "      <td>-87.69730</td>\n",
              "      <td>Entire home/apt</td>\n",
              "      <td>98</td>\n",
              "      <td>2</td>\n",
              "      <td>293</td>\n",
              "      <td>2021-04-07</td>\n",
              "      <td>2.74</td>\n",
              "      <td>1</td>\n",
              "      <td>135</td>\n",
              "    </tr>\n",
              "    <tr>\n",
              "      <th>1</th>\n",
              "      <td>Lincoln Square</td>\n",
              "      <td>MULTIPOLYGON (((-87.67441 41.97610, -87.67440 ...</td>\n",
              "      <td>584590</td>\n",
              "      <td>Spacious Bedroom, steps to El train</td>\n",
              "      <td>2880338</td>\n",
              "      <td>Elizabeth</td>\n",
              "      <td>41.96528</td>\n",
              "      <td>-87.68310</td>\n",
              "      <td>Private room</td>\n",
              "      <td>75</td>\n",
              "      <td>2</td>\n",
              "      <td>44</td>\n",
              "      <td>2020-10-06</td>\n",
              "      <td>0.41</td>\n",
              "      <td>2</td>\n",
              "      <td>138</td>\n",
              "    </tr>\n",
              "    <tr>\n",
              "      <th>2</th>\n",
              "      <td>Lincoln Square</td>\n",
              "      <td>MULTIPOLYGON (((-87.67441 41.97610, -87.67440 ...</td>\n",
              "      <td>739495</td>\n",
              "      <td>Lovely 2 bedroom in Lincoln Square</td>\n",
              "      <td>3867687</td>\n",
              "      <td>Janet</td>\n",
              "      <td>41.97650</td>\n",
              "      <td>-87.68144</td>\n",
              "      <td>Entire home/apt</td>\n",
              "      <td>84</td>\n",
              "      <td>28</td>\n",
              "      <td>186</td>\n",
              "      <td>2020-03-12</td>\n",
              "      <td>1.97</td>\n",
              "      <td>1</td>\n",
              "      <td>105</td>\n",
              "    </tr>\n",
              "    <tr>\n",
              "      <th>3</th>\n",
              "      <td>Lincoln Square</td>\n",
              "      <td>MULTIPOLYGON (((-87.67441 41.97610, -87.67440 ...</td>\n",
              "      <td>2479175</td>\n",
              "      <td>Cozy Garden-Subterranean Apartment</td>\n",
              "      <td>12681444</td>\n",
              "      <td>Jenny</td>\n",
              "      <td>41.96316</td>\n",
              "      <td>-87.69208</td>\n",
              "      <td>Entire home/apt</td>\n",
              "      <td>80</td>\n",
              "      <td>2</td>\n",
              "      <td>185</td>\n",
              "      <td>2021-04-19</td>\n",
              "      <td>2.17</td>\n",
              "      <td>1</td>\n",
              "      <td>87</td>\n",
              "    </tr>\n",
              "    <tr>\n",
              "      <th>4</th>\n",
              "      <td>Lincoln Square</td>\n",
              "      <td>MULTIPOLYGON (((-87.67441 41.97610, -87.67440 ...</td>\n",
              "      <td>4278432</td>\n",
              "      <td>2BD in Lincoln Square Neighborhood</td>\n",
              "      <td>19538870</td>\n",
              "      <td>Jackie</td>\n",
              "      <td>41.96833</td>\n",
              "      <td>-87.68547</td>\n",
              "      <td>Entire home/apt</td>\n",
              "      <td>150</td>\n",
              "      <td>3</td>\n",
              "      <td>78</td>\n",
              "      <td>2019-11-06</td>\n",
              "      <td>1.00</td>\n",
              "      <td>1</td>\n",
              "      <td>201</td>\n",
              "    </tr>\n",
              "    <tr>\n",
              "      <th>...</th>\n",
              "      <td>...</td>\n",
              "      <td>...</td>\n",
              "      <td>...</td>\n",
              "      <td>...</td>\n",
              "      <td>...</td>\n",
              "      <td>...</td>\n",
              "      <td>...</td>\n",
              "      <td>...</td>\n",
              "      <td>...</td>\n",
              "      <td>...</td>\n",
              "      <td>...</td>\n",
              "      <td>...</td>\n",
              "      <td>...</td>\n",
              "      <td>...</td>\n",
              "      <td>...</td>\n",
              "      <td>...</td>\n",
              "    </tr>\n",
              "    <tr>\n",
              "      <th>6381</th>\n",
              "      <td>Morgan Park</td>\n",
              "      <td>MULTIPOLYGON (((-87.64215 41.68508, -87.64249 ...</td>\n",
              "      <td>44520255</td>\n",
              "      <td>Blue Island Living</td>\n",
              "      <td>360063492</td>\n",
              "      <td>NaN</td>\n",
              "      <td>41.67355</td>\n",
              "      <td>-87.68833</td>\n",
              "      <td>Entire home/apt</td>\n",
              "      <td>122</td>\n",
              "      <td>2</td>\n",
              "      <td>36</td>\n",
              "      <td>2021-04-12</td>\n",
              "      <td>4.24</td>\n",
              "      <td>1</td>\n",
              "      <td>327</td>\n",
              "    </tr>\n",
              "    <tr>\n",
              "      <th>6382</th>\n",
              "      <td>Morgan Park</td>\n",
              "      <td>MULTIPOLYGON (((-87.64215 41.68508, -87.64249 ...</td>\n",
              "      <td>46795021</td>\n",
              "      <td>House of Relaxation</td>\n",
              "      <td>378142375</td>\n",
              "      <td>Laura</td>\n",
              "      <td>41.68817</td>\n",
              "      <td>-87.65018</td>\n",
              "      <td>Entire home/apt</td>\n",
              "      <td>100</td>\n",
              "      <td>1</td>\n",
              "      <td>0</td>\n",
              "      <td>NaN</td>\n",
              "      <td>NaN</td>\n",
              "      <td>1</td>\n",
              "      <td>138</td>\n",
              "    </tr>\n",
              "    <tr>\n",
              "      <th>6383</th>\n",
              "      <td>Morgan Park</td>\n",
              "      <td>MULTIPOLYGON (((-87.64215 41.68508, -87.64249 ...</td>\n",
              "      <td>48771681</td>\n",
              "      <td>Privacy Respected</td>\n",
              "      <td>393449794</td>\n",
              "      <td>Pamela</td>\n",
              "      <td>41.69065</td>\n",
              "      <td>-87.64623</td>\n",
              "      <td>Entire home/apt</td>\n",
              "      <td>60</td>\n",
              "      <td>3</td>\n",
              "      <td>1</td>\n",
              "      <td>2021-04-11</td>\n",
              "      <td>1.00</td>\n",
              "      <td>1</td>\n",
              "      <td>12</td>\n",
              "    </tr>\n",
              "    <tr>\n",
              "      <th>6384</th>\n",
              "      <td>Edison Park</td>\n",
              "      <td>MULTIPOLYGON (((-87.80676 42.00084, -87.80676 ...</td>\n",
              "      <td>16716143</td>\n",
              "      <td>Entire Unique Home in Edison Park</td>\n",
              "      <td>30561059</td>\n",
              "      <td>Brendan</td>\n",
              "      <td>42.01312</td>\n",
              "      <td>-87.80916</td>\n",
              "      <td>Entire home/apt</td>\n",
              "      <td>139</td>\n",
              "      <td>3</td>\n",
              "      <td>240</td>\n",
              "      <td>2021-04-18</td>\n",
              "      <td>4.73</td>\n",
              "      <td>2</td>\n",
              "      <td>257</td>\n",
              "    </tr>\n",
              "    <tr>\n",
              "      <th>6385</th>\n",
              "      <td>Edison Park</td>\n",
              "      <td>MULTIPOLYGON (((-87.80676 42.00084, -87.80676 ...</td>\n",
              "      <td>29395575</td>\n",
              "      <td>Urban Oasis</td>\n",
              "      <td>221535744</td>\n",
              "      <td>Bart</td>\n",
              "      <td>41.99707</td>\n",
              "      <td>-87.80852</td>\n",
              "      <td>Entire home/apt</td>\n",
              "      <td>99</td>\n",
              "      <td>2</td>\n",
              "      <td>40</td>\n",
              "      <td>2020-10-25</td>\n",
              "      <td>1.35</td>\n",
              "      <td>1</td>\n",
              "      <td>327</td>\n",
              "    </tr>\n",
              "  </tbody>\n",
              "</table>\n",
              "<p>6386 rows × 16 columns</p>\n",
              "</div>"
            ],
            "text/plain": [
              "       neighbourhood  ... availability_365\n",
              "0     Lincoln Square  ...              135\n",
              "1     Lincoln Square  ...              138\n",
              "2     Lincoln Square  ...              105\n",
              "3     Lincoln Square  ...               87\n",
              "4     Lincoln Square  ...              201\n",
              "...              ...  ...              ...\n",
              "6381     Morgan Park  ...              327\n",
              "6382     Morgan Park  ...              138\n",
              "6383     Morgan Park  ...               12\n",
              "6384     Edison Park  ...              257\n",
              "6385     Edison Park  ...              327\n",
              "\n",
              "[6386 rows x 16 columns]"
            ]
          },
          "metadata": {
            "tags": []
          },
          "execution_count": 19
        }
      ]
    },
    {
      "cell_type": "code",
      "metadata": {
        "id": "8ceIGD0X6CZO"
      },
      "source": [
        "# Let's plot the thematic map \n",
        "keys = list(merged['room_type'].unique())\n",
        "color_range = list(np.linspace(0, 1, len(keys), endpoint=False))\n",
        "colors = [plt.cm.tab20b(x) for x in color_range]\n",
        "color_dict = dict(zip(keys, colors))\n",
        "color_dict['No data'] = 'lightgray'"
      ],
      "execution_count": 20,
      "outputs": []
    },
    {
      "cell_type": "code",
      "metadata": {
        "id": "rNfoEWoo6pMO"
      },
      "source": [
        "row_count = merged['room_type'].nunique()\n",
        "ax_list = []\n",
        "for i in range(row_count+1):\n",
        "    ax_list.append('ax' + str(i+1))\n",
        "ax_string = ', '.join(ax_list)"
      ],
      "execution_count": 21,
      "outputs": []
    },
    {
      "cell_type": "code",
      "metadata": {
        "colab": {
          "base_uri": "https://localhost:8080/",
          "height": 248
        },
        "id": "LyvsDD6D7pS_",
        "outputId": "83676c5d-2862-4499-b5af-2057b3d8ead1"
      },
      "source": [
        "# Thematic plot for different room types\n",
        "fig, (ax_string) = plt.subplots(row_count, 4)\n",
        "ax1 = plt.subplot2grid((row_count,4),(0,1), rowspan=row_count, colspan=3)\n",
        "for index, row in merged.iterrows():\n",
        "     plot = merged[merged['id'] == row['id']].plot(color=color_dict[row['room_type']], ax=ax1)\n",
        "     ax1.axis('off')\n",
        "     \n",
        "row_counter = 0\n",
        "for i in merged['room_type'].unique():\n",
        "  plt.subplot2grid((row_count,4),(row_counter,0))\n",
        "  plt.pie([1],labels=[i],radius=0.4, colors=[color_dict[i]])\n",
        "  plt.axis('off')\n",
        "  row_counter += 1\n"
      ],
      "execution_count": 22,
      "outputs": [
        {
          "output_type": "display_data",
          "data": {
            "image/png": "[encoded data removed]",
            "text/plain": [
              "<Figure size 432x288 with 5 Axes>"
            ]
          },
          "metadata": {
            "tags": [],
            "needs_background": "light"
          }
        }
      ]
    },
    {
      "cell_type": "code",
      "metadata": {
        "id": "y5Nkym7JdghV"
      },
      "source": [
        "# Find the number of listing per host\n",
        "host_listing=listing.groupby('host_name')['calculated_host_listings_count'].sum().reset_index()"
      ],
      "execution_count": 9,
      "outputs": []
    },
    {
      "cell_type": "code",
      "metadata": {
        "colab": {
          "base_uri": "https://localhost:8080/",
          "height": 399
        },
        "id": "aabnJpQXfTRh",
        "outputId": "9be4707d-c1e2-49fb-e841-c6c7e3441876"
      },
      "source": [
        "host_listing"
      ],
      "execution_count": 10,
      "outputs": [
        {
          "output_type": "execute_result",
          "data": {
            "text/html": [
              "<div>\n",
              "<style scoped>\n",
              "    .dataframe tbody tr th:only-of-type {\n",
              "        vertical-align: middle;\n",
              "    }\n",
              "\n",
              "    .dataframe tbody tr th {\n",
              "        vertical-align: top;\n",
              "    }\n",
              "\n",
              "    .dataframe thead th {\n",
              "        text-align: right;\n",
              "    }\n",
              "</style>\n",
              "<table border=\"1\" class=\"dataframe\">\n",
              "  <thead>\n",
              "    <tr style=\"text-align: right;\">\n",
              "      <th></th>\n",
              "      <th>host_name</th>\n",
              "      <th>calculated_host_listings_count</th>\n",
              "    </tr>\n",
              "  </thead>\n",
              "  <tbody>\n",
              "    <tr>\n",
              "      <th>0</th>\n",
              "      <td>(Email hidden by Airbnb)</td>\n",
              "      <td>1</td>\n",
              "    </tr>\n",
              "    <tr>\n",
              "      <th>1</th>\n",
              "      <td>A</td>\n",
              "      <td>1</td>\n",
              "    </tr>\n",
              "    <tr>\n",
              "      <th>2</th>\n",
              "      <td>A Tavola</td>\n",
              "      <td>1</td>\n",
              "    </tr>\n",
              "    <tr>\n",
              "      <th>3</th>\n",
              "      <td>Aaron</td>\n",
              "      <td>7</td>\n",
              "    </tr>\n",
              "    <tr>\n",
              "      <th>4</th>\n",
              "      <td>Aaron &amp; Molly</td>\n",
              "      <td>1</td>\n",
              "    </tr>\n",
              "    <tr>\n",
              "      <th>...</th>\n",
              "      <td>...</td>\n",
              "      <td>...</td>\n",
              "    </tr>\n",
              "    <tr>\n",
              "      <th>1786</th>\n",
              "      <td>Zhanara</td>\n",
              "      <td>1</td>\n",
              "    </tr>\n",
              "    <tr>\n",
              "      <th>1787</th>\n",
              "      <td>Zhe</td>\n",
              "      <td>1</td>\n",
              "    </tr>\n",
              "    <tr>\n",
              "      <th>1788</th>\n",
              "      <td>Zhi</td>\n",
              "      <td>36</td>\n",
              "    </tr>\n",
              "    <tr>\n",
              "      <th>1789</th>\n",
              "      <td>Zichen</td>\n",
              "      <td>1</td>\n",
              "    </tr>\n",
              "    <tr>\n",
              "      <th>1790</th>\n",
              "      <td>方正</td>\n",
              "      <td>1</td>\n",
              "    </tr>\n",
              "  </tbody>\n",
              "</table>\n",
              "<p>1791 rows × 2 columns</p>\n",
              "</div>"
            ],
            "text/plain": [
              "                     host_name  calculated_host_listings_count\n",
              "0     (Email hidden by Airbnb)                               1\n",
              "1                            A                               1\n",
              "2                     A Tavola                               1\n",
              "3                        Aaron                               7\n",
              "4                Aaron & Molly                               1\n",
              "...                        ...                             ...\n",
              "1786                   Zhanara                               1\n",
              "1787                       Zhe                               1\n",
              "1788                       Zhi                              36\n",
              "1789                    Zichen                               1\n",
              "1790                        方正                               1\n",
              "\n",
              "[1791 rows x 2 columns]"
            ]
          },
          "metadata": {
            "tags": []
          },
          "execution_count": 10
        }
      ]
    },
    {
      "cell_type": "code",
      "metadata": {
        "colab": {
          "base_uri": "https://localhost:8080/",
          "height": 504
        },
        "id": "J8pXRC1_faXZ",
        "outputId": "b2a3ce69-93ea-45c0-bfb5-83ce9bbffb03"
      },
      "source": [
        "# Let's find top 10 host with highest listing count\n",
        "sort_data=host_listing.sort_values(\"calculated_host_listings_count\").reset_index(drop=True)\n",
        "\n",
        "fig = plt.figure(figsize = (12,6))\n",
        "ax=sns.barplot(x=\"host_name\",y=\"calculated_host_listings_count\", data=sort_data[-10:])\n",
        "ax.set_xticklabels(ax.get_xticklabels(), rotation=40, ha=\"right\")\n",
        "plt.xticks(fontsize=20)\n",
        "plt.yticks(fontsize=20)"
      ],
      "execution_count": 12,
      "outputs": [
        {
          "output_type": "execute_result",
          "data": {
            "text/plain": [
              "(array([    0., 10000., 20000., 30000., 40000., 50000., 60000.]),\n",
              " <a list of 7 Text major ticklabel objects>)"
            ]
          },
          "metadata": {
            "tags": []
          },
          "execution_count": 12
        },
        {
          "output_type": "display_data",
          "data": {
            "image/png": "[encoded data removed]",
            "text/plain": [
              "<Figure size 864x432 with 1 Axes>"
            ]
          },
          "metadata": {
            "tags": [],
            "needs_background": "light"
          }
        }
      ]
    },
    {
      "cell_type": "code",
      "metadata": {
        "colab": {
          "base_uri": "https://localhost:8080/",
          "height": 462
        },
        "id": "rDX8cutvgGq1",
        "outputId": "36e2e9bd-df1b-4871-af73-6e32c765ac69"
      },
      "source": [
        "# Let's try to find out relation between room type and number of listing \n",
        "room_listing=listing.groupby('room_type')['calculated_host_listings_count'].sum().reset_index()\n",
        "# Draw a pie chart\n",
        "plt.pie(x=room_listing[\"calculated_host_listings_count\"], labels=room_listing[\"room_type\"], explode=[0, 0.1, 0,0.1],\n",
        "        autopct='%1.1f%%', shadow=True, startangle=90)\n"
      ],
      "execution_count": 15,
      "outputs": [
        {
          "output_type": "execute_result",
          "data": {
            "text/plain": [
              "([<matplotlib.patches.Wedge at 0x7fe166a1b3d0>,\n",
              "  <matplotlib.patches.Wedge at 0x7fe166a1be10>,\n",
              "  <matplotlib.patches.Wedge at 0x7fe166a259d0>,\n",
              "  <matplotlib.patches.Wedge at 0x7fe166a30650>],\n",
              " [Text(-0.36754774940633905, -1.036778014768029, 'Entire home/apt'),\n",
              "  Text(0.7284339729462012, 0.9536162472702597, 'Hotel room'),\n",
              "  Text(0.3645145173650391, 1.0378483350808696, 'Private room'),\n",
              "  Text(0.03135656533753936, 1.1995902491310244, 'Shared room')],\n",
              " [Text(-0.20048059058527581, -0.5655152807825612, '89.2%'),\n",
              "  Text(0.4249198175519507, 0.5562761442409848, '0.9%'),\n",
              "  Text(0.19882610038093038, 0.5660990918622925, '9.1%'),\n",
              "  Text(0.018291329780231295, 0.699760978659764, '0.8%')])"
            ]
          },
          "metadata": {
            "tags": []
          },
          "execution_count": 15
        },
        {
          "output_type": "display_data",
          "data": {
            "image/png": "[encoded data removed]",
            "text/plain": [
              "<Figure size 432x288 with 1 Axes>"
            ]
          },
          "metadata": {
            "tags": []
          }
        }
      ]
    },
    {
      "cell_type": "code",
      "metadata": {
        "id": "t_RCny5-kLnw"
      },
      "source": [
        ""
      ],
      "execution_count": null,
      "outputs": []
    }
  ]
}